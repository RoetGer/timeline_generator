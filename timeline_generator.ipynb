{
  "nbformat": 4,
  "nbformat_minor": 0,
  "metadata": {
    "colab": {
      "name": "timeline_generator.ipynb",
      "provenance": [],
      "collapsed_sections": [],
      "authorship_tag": "ABX9TyP9OYCIuKua/n6/icMSvvB5",
      "include_colab_link": true
    },
    "kernelspec": {
      "name": "python3",
      "display_name": "Python 3"
    }
  },
  "cells": [
    {
      "cell_type": "markdown",
      "metadata": {
        "id": "view-in-github",
        "colab_type": "text"
      },
      "source": [
        "<a href=\"https://colab.research.google.com/github/RoetGer/timeline_generator/blob/main/timeline_generator.ipynb\" target=\"_parent\"><img src=\"https://colab.research.google.com/assets/colab-badge.svg\" alt=\"Open In Colab\"/></a>"
      ]
    },
    {
      "cell_type": "code",
      "metadata": {
        "colab": {
          "base_uri": "https://localhost:8080/",
          "height": 292
        },
        "id": "XJgiINSdCdK4",
        "outputId": "637bbaf2-c78e-49ed-971f-976efc4e5b4d"
      },
      "source": [
        "!pip install -U plotly"
      ],
      "execution_count": 5,
      "outputs": [
        {
          "output_type": "stream",
          "text": [
            "Collecting plotly\n",
            "\u001b[?25l  Downloading https://files.pythonhosted.org/packages/1f/f6/bd3c17c8003b6641df1228e80e1acac97ed8402635e46c2571f8e1ef63af/plotly-4.14.3-py2.py3-none-any.whl (13.2MB)\n",
            "\u001b[K     |████████████████████████████████| 13.2MB 334kB/s \n",
            "\u001b[?25hRequirement already satisfied, skipping upgrade: retrying>=1.3.3 in /usr/local/lib/python3.6/dist-packages (from plotly) (1.3.3)\n",
            "Requirement already satisfied, skipping upgrade: six in /usr/local/lib/python3.6/dist-packages (from plotly) (1.15.0)\n",
            "Installing collected packages: plotly\n",
            "  Found existing installation: plotly 4.4.1\n",
            "    Uninstalling plotly-4.4.1:\n",
            "      Successfully uninstalled plotly-4.4.1\n",
            "Successfully installed plotly-4.14.3\n"
          ],
          "name": "stdout"
        },
        {
          "output_type": "display_data",
          "data": {
            "application/vnd.colab-display-data+json": {
              "pip_warning": {
                "packages": [
                  "_plotly_utils",
                  "plotly"
                ]
              }
            }
          },
          "metadata": {
            "tags": []
          }
        }
      ]
    },
    {
      "cell_type": "code",
      "metadata": {
        "id": "JlaI6CJ8HBCP"
      },
      "source": [
        "import datetime\r\n",
        "import random\r\n",
        "\r\n",
        "from dateutil import parser\r\n",
        "parse = parser.parse\r\n",
        "\r\n",
        "# Inspired by https://stackoverflow.com/a/8170651\r\n",
        "def random_date(start, end):\r\n",
        "    '''Generate a random datetime between `start` and `end`'''\r\n",
        "    return start + datetime.timedelta(\r\n",
        "        # Get a random amount of seconds between `start` and `end`\r\n",
        "        days=random.randint(0, int((end - start).days)),\r\n",
        "    )\r\n",
        "\r\n",
        "def add_random_timedelta(date, max_days):\r\n",
        "    '''Add a maximum of max_days to date'''\r\n",
        "    return date + datetime.timedelta(\r\n",
        "        days=random.randint(0, max_days+1)\r\n",
        "    )"
      ],
      "execution_count": 57,
      "outputs": []
    },
    {
      "cell_type": "code",
      "metadata": {
        "colab": {
          "base_uri": "https://localhost:8080/"
        },
        "id": "g8lp81raHS35",
        "outputId": "6c331b68-0fb7-4713-fa55-469217fc8528"
      },
      "source": [
        "random_date(parse(\"2019-01-01\"), parse(\"2019-03-01\"))"
      ],
      "execution_count": 29,
      "outputs": [
        {
          "output_type": "execute_result",
          "data": {
            "text/plain": [
              "datetime.datetime(2019, 1, 12, 0, 0)"
            ]
          },
          "metadata": {
            "tags": []
          },
          "execution_count": 29
        }
      ]
    },
    {
      "cell_type": "code",
      "metadata": {
        "id": "d43KrhvkJrvP"
      },
      "source": [
        "use_cases = [\r\n",
        "  \"abc\"\r\n",
        "  , \"bfe\"\r\n",
        "]"
      ],
      "execution_count": 31,
      "outputs": []
    },
    {
      "cell_type": "code",
      "metadata": {
        "id": "C9c-9ITOKfHc"
      },
      "source": [
        "from collections import OrderedDict\r\n",
        "timelines = []\r\n",
        "\r\n",
        "# Stage name + maximum number of days it should last\r\n",
        "stages = OrderedDict([\r\n",
        "  (\"Ideation\", 15)\r\n",
        "  , (\"Evaluation\", 90)\r\n",
        "  , (\"Data Delivery\", 90)\r\n",
        "  , (\"Modelling\", 90)\r\n",
        "  , (\"Testing\", 90)\r\n",
        "  , (\"Deployment\", 90)\r\n",
        "])\r\n",
        "\r\n",
        "# Projects need to start between start_date and end_date\r\n",
        "start_date = parse(\"2021-01-01\")\r\n",
        "end_date = parse(\"2021-12-31\")\r\n",
        "\r\n",
        "for uc in use_cases:\r\n",
        "  stage_end = random_date(start_date, end_date)\r\n",
        "\r\n",
        "  for stage, max_days in stages.items():\r\n",
        "    stage_start = stage_end\r\n",
        "    stage_end = add_random_timedelta(stage_start, max_days)\r\n",
        "\r\n",
        "    task = dict(\r\n",
        "        Task=uc,\r\n",
        "        Start=stage_start,\r\n",
        "        Finish=stage_end,\r\n",
        "        stage=stage)\r\n",
        "    timelines.append(task)\r\n",
        "\r\n",
        "df = pd.DataFrame(timelines)"
      ],
      "execution_count": 72,
      "outputs": []
    },
    {
      "cell_type": "code",
      "metadata": {
        "colab": {
          "base_uri": "https://localhost:8080/",
          "height": 421
        },
        "id": "YnyLFEFQQgo7",
        "outputId": "e9ecc1f4-20a2-49bf-ccfe-05fd48258eea"
      },
      "source": [
        "df"
      ],
      "execution_count": 68,
      "outputs": [
        {
          "output_type": "execute_result",
          "data": {
            "text/html": [
              "<div>\n",
              "<style scoped>\n",
              "    .dataframe tbody tr th:only-of-type {\n",
              "        vertical-align: middle;\n",
              "    }\n",
              "\n",
              "    .dataframe tbody tr th {\n",
              "        vertical-align: top;\n",
              "    }\n",
              "\n",
              "    .dataframe thead th {\n",
              "        text-align: right;\n",
              "    }\n",
              "</style>\n",
              "<table border=\"1\" class=\"dataframe\">\n",
              "  <thead>\n",
              "    <tr style=\"text-align: right;\">\n",
              "      <th></th>\n",
              "      <th>Task</th>\n",
              "      <th>Start</th>\n",
              "      <th>Finish</th>\n",
              "      <th>stage</th>\n",
              "    </tr>\n",
              "  </thead>\n",
              "  <tbody>\n",
              "    <tr>\n",
              "      <th>0</th>\n",
              "      <td>abc</td>\n",
              "      <td>2021-12-23</td>\n",
              "      <td>2022-01-18</td>\n",
              "      <td>Ideation</td>\n",
              "    </tr>\n",
              "    <tr>\n",
              "      <th>1</th>\n",
              "      <td>abc</td>\n",
              "      <td>2022-01-18</td>\n",
              "      <td>2022-02-25</td>\n",
              "      <td>Evaluation</td>\n",
              "    </tr>\n",
              "    <tr>\n",
              "      <th>2</th>\n",
              "      <td>abc</td>\n",
              "      <td>2022-02-25</td>\n",
              "      <td>2022-02-28</td>\n",
              "      <td>Data Delivery</td>\n",
              "    </tr>\n",
              "    <tr>\n",
              "      <th>3</th>\n",
              "      <td>abc</td>\n",
              "      <td>2022-02-28</td>\n",
              "      <td>2022-05-25</td>\n",
              "      <td>Modelling</td>\n",
              "    </tr>\n",
              "    <tr>\n",
              "      <th>4</th>\n",
              "      <td>abc</td>\n",
              "      <td>2022-05-25</td>\n",
              "      <td>2022-06-09</td>\n",
              "      <td>Testing</td>\n",
              "    </tr>\n",
              "    <tr>\n",
              "      <th>5</th>\n",
              "      <td>abc</td>\n",
              "      <td>2022-06-09</td>\n",
              "      <td>2022-08-29</td>\n",
              "      <td>Deployment</td>\n",
              "    </tr>\n",
              "    <tr>\n",
              "      <th>6</th>\n",
              "      <td>bfe</td>\n",
              "      <td>2021-11-07</td>\n",
              "      <td>2021-11-17</td>\n",
              "      <td>Ideation</td>\n",
              "    </tr>\n",
              "    <tr>\n",
              "      <th>7</th>\n",
              "      <td>bfe</td>\n",
              "      <td>2021-11-17</td>\n",
              "      <td>2021-11-20</td>\n",
              "      <td>Evaluation</td>\n",
              "    </tr>\n",
              "    <tr>\n",
              "      <th>8</th>\n",
              "      <td>bfe</td>\n",
              "      <td>2021-11-20</td>\n",
              "      <td>2022-03-27</td>\n",
              "      <td>Data Delivery</td>\n",
              "    </tr>\n",
              "    <tr>\n",
              "      <th>9</th>\n",
              "      <td>bfe</td>\n",
              "      <td>2022-03-27</td>\n",
              "      <td>2022-05-24</td>\n",
              "      <td>Modelling</td>\n",
              "    </tr>\n",
              "    <tr>\n",
              "      <th>10</th>\n",
              "      <td>bfe</td>\n",
              "      <td>2022-05-24</td>\n",
              "      <td>2022-08-13</td>\n",
              "      <td>Testing</td>\n",
              "    </tr>\n",
              "    <tr>\n",
              "      <th>11</th>\n",
              "      <td>bfe</td>\n",
              "      <td>2022-08-13</td>\n",
              "      <td>2023-07-12</td>\n",
              "      <td>Deployment</td>\n",
              "    </tr>\n",
              "  </tbody>\n",
              "</table>\n",
              "</div>"
            ],
            "text/plain": [
              "   Task      Start     Finish          stage\n",
              "0   abc 2021-12-23 2022-01-18       Ideation\n",
              "1   abc 2022-01-18 2022-02-25     Evaluation\n",
              "2   abc 2022-02-25 2022-02-28  Data Delivery\n",
              "3   abc 2022-02-28 2022-05-25      Modelling\n",
              "4   abc 2022-05-25 2022-06-09        Testing\n",
              "5   abc 2022-06-09 2022-08-29     Deployment\n",
              "6   bfe 2021-11-07 2021-11-17       Ideation\n",
              "7   bfe 2021-11-17 2021-11-20     Evaluation\n",
              "8   bfe 2021-11-20 2022-03-27  Data Delivery\n",
              "9   bfe 2022-03-27 2022-05-24      Modelling\n",
              "10  bfe 2022-05-24 2022-08-13        Testing\n",
              "11  bfe 2022-08-13 2023-07-12     Deployment"
            ]
          },
          "metadata": {
            "tags": []
          },
          "execution_count": 68
        }
      ]
    },
    {
      "cell_type": "code",
      "metadata": {
        "colab": {
          "base_uri": "https://localhost:8080/",
          "height": 617
        },
        "id": "OR4CogrkH0nI",
        "outputId": "79ba6e90-3667-419c-b643-64e26765d797"
      },
      "source": [
        "import plotly.figure_factory as ff\r\n",
        "\r\n",
        "fig = ff.create_gantt(\r\n",
        "    df, \r\n",
        "    index_col='stage', \r\n",
        "    show_colorbar=True,\r\n",
        "    group_tasks=True)\r\n",
        "\r\n",
        "fig.show()"
      ],
      "execution_count": 71,
      "outputs": [
        {
          "output_type": "display_data",
          "data": {
            "text/html": [
              "<html>\n",
              "<head><meta charset=\"utf-8\" /></head>\n",
              "<body>\n",
              "    <div>            <script src=\"https://cdnjs.cloudflare.com/ajax/libs/mathjax/2.7.5/MathJax.js?config=TeX-AMS-MML_SVG\"></script><script type=\"text/javascript\">if (window.MathJax) {MathJax.Hub.Config({SVG: {font: \"STIX-Web\"}});}</script>                <script type=\"text/javascript\">window.PlotlyConfig = {MathJaxConfig: 'local'};</script>\n",
              "        <script src=\"https://cdn.plot.ly/plotly-latest.min.js\"></script>                <div id=\"4154c07e-e229-4be1-8da8-14eca12dd094\" class=\"plotly-graph-div\" style=\"height:600px; width:100%;\"></div>            <script type=\"text/javascript\">                                    window.PLOTLYENV=window.PLOTLYENV || {};                                    if (document.getElementById(\"4154c07e-e229-4be1-8da8-14eca12dd094\")) {                    Plotly.newPlot(                        \"4154c07e-e229-4be1-8da8-14eca12dd094\",                        [{\"fill\": \"toself\", \"fillcolor\": \"rgb(140, 86, 75)\", \"hoverinfo\": \"name\", \"legendgroup\": \"rgb(140, 86, 75)\", \"mode\": \"none\", \"name\": \"Testing\", \"showlegend\": true, \"type\": \"scatter\", \"x\": [\"2022-03-29T00:00:00\", \"2022-04-19T00:00:00\", \"2022-04-19T00:00:00\", \"2022-03-29T00:00:00\", \"2022-03-29T00:00:00\", \"2022-06-08T00:00:00\", \"2022-08-23T00:00:00\", \"2022-08-23T00:00:00\", \"2022-06-08T00:00:00\"], \"y\": [0.8, 0.8, 1.2, 1.2, null, -0.2, -0.2, 0.2, 0.2]}, {\"fill\": \"toself\", \"fillcolor\": \"rgb(148, 103, 189)\", \"hoverinfo\": \"name\", \"legendgroup\": \"rgb(148, 103, 189)\", \"mode\": \"none\", \"name\": \"Modelling\", \"showlegend\": true, \"type\": \"scatter\", \"x\": [\"2022-03-02T00:00:00\", \"2022-03-29T00:00:00\", \"2022-03-29T00:00:00\", \"2022-03-02T00:00:00\", \"2022-03-02T00:00:00\", \"2022-03-16T00:00:00\", \"2022-06-08T00:00:00\", \"2022-06-08T00:00:00\", \"2022-03-16T00:00:00\"], \"y\": [0.8, 0.8, 1.2, 1.2, null, -0.2, -0.2, 0.2, 0.2]}, {\"fill\": \"toself\", \"fillcolor\": \"rgb(214, 39, 40)\", \"hoverinfo\": \"name\", \"legendgroup\": \"rgb(214, 39, 40)\", \"mode\": \"none\", \"name\": \"Ideation\", \"showlegend\": true, \"type\": \"scatter\", \"x\": [\"2021-12-07T00:00:00\", \"2021-12-23T00:00:00\", \"2021-12-23T00:00:00\", \"2021-12-07T00:00:00\", \"2021-12-07T00:00:00\", \"2021-10-02T00:00:00\", \"2021-10-10T00:00:00\", \"2021-10-10T00:00:00\", \"2021-10-02T00:00:00\"], \"y\": [0.8, 0.8, 1.2, 1.2, null, -0.2, -0.2, 0.2, 0.2]}, {\"fill\": \"toself\", \"fillcolor\": \"rgb(255, 127, 14)\", \"hoverinfo\": \"name\", \"legendgroup\": \"rgb(255, 127, 14)\", \"mode\": \"none\", \"name\": \"Deployment\", \"showlegend\": true, \"type\": \"scatter\", \"x\": [\"2022-04-19T00:00:00\", \"2022-05-02T00:00:00\", \"2022-05-02T00:00:00\", \"2022-04-19T00:00:00\", \"2022-04-19T00:00:00\", \"2022-08-23T00:00:00\", \"2022-09-11T00:00:00\", \"2022-09-11T00:00:00\", \"2022-08-23T00:00:00\"], \"y\": [0.8, 0.8, 1.2, 1.2, null, -0.2, -0.2, 0.2, 0.2]}, {\"fill\": \"toself\", \"fillcolor\": \"rgb(31, 119, 180)\", \"hoverinfo\": \"name\", \"legendgroup\": \"rgb(31, 119, 180)\", \"mode\": \"none\", \"name\": \"Data Delivery\", \"showlegend\": true, \"type\": \"scatter\", \"x\": [\"2022-02-10T00:00:00\", \"2022-03-02T00:00:00\", \"2022-03-02T00:00:00\", \"2022-02-10T00:00:00\", \"2022-02-10T00:00:00\", \"2022-01-05T00:00:00\", \"2022-03-16T00:00:00\", \"2022-03-16T00:00:00\", \"2022-01-05T00:00:00\"], \"y\": [0.8, 0.8, 1.2, 1.2, null, -0.2, -0.2, 0.2, 0.2]}, {\"fill\": \"toself\", \"fillcolor\": \"rgb(44, 160, 44)\", \"hoverinfo\": \"name\", \"legendgroup\": \"rgb(44, 160, 44)\", \"mode\": \"none\", \"name\": \"Evaluation\", \"showlegend\": true, \"type\": \"scatter\", \"x\": [\"2021-12-23T00:00:00\", \"2022-02-10T00:00:00\", \"2022-02-10T00:00:00\", \"2021-12-23T00:00:00\", \"2021-12-23T00:00:00\", \"2021-10-10T00:00:00\", \"2022-01-05T00:00:00\", \"2022-01-05T00:00:00\", \"2021-10-10T00:00:00\"], \"y\": [0.8, 0.8, 1.2, 1.2, null, -0.2, -0.2, 0.2, 0.2]}, {\"legendgroup\": \"rgb(140, 86, 75)\", \"marker\": {\"color\": \"rgb(140, 86, 75)\", \"opacity\": 0, \"size\": 1}, \"mode\": \"markers\", \"name\": \"\", \"showlegend\": false, \"text\": [null, null, null, null], \"type\": \"scatter\", \"x\": [\"2022-03-29T00:00:00\", \"2022-04-19T00:00:00\", \"2022-06-08T00:00:00\", \"2022-08-23T00:00:00\"], \"y\": [1, 1, 0, 0]}, {\"legendgroup\": \"rgb(148, 103, 189)\", \"marker\": {\"color\": \"rgb(148, 103, 189)\", \"opacity\": 0, \"size\": 1}, \"mode\": \"markers\", \"name\": \"\", \"showlegend\": false, \"text\": [null, null, null, null], \"type\": \"scatter\", \"x\": [\"2022-03-02T00:00:00\", \"2022-03-29T00:00:00\", \"2022-03-16T00:00:00\", \"2022-06-08T00:00:00\"], \"y\": [1, 1, 0, 0]}, {\"legendgroup\": \"rgb(214, 39, 40)\", \"marker\": {\"color\": \"rgb(214, 39, 40)\", \"opacity\": 0, \"size\": 1}, \"mode\": \"markers\", \"name\": \"\", \"showlegend\": false, \"text\": [null, null, null, null], \"type\": \"scatter\", \"x\": [\"2021-12-07T00:00:00\", \"2021-12-23T00:00:00\", \"2021-10-02T00:00:00\", \"2021-10-10T00:00:00\"], \"y\": [1, 1, 0, 0]}, {\"legendgroup\": \"rgb(255, 127, 14)\", \"marker\": {\"color\": \"rgb(255, 127, 14)\", \"opacity\": 0, \"size\": 1}, \"mode\": \"markers\", \"name\": \"\", \"showlegend\": false, \"text\": [null, null, null, null], \"type\": \"scatter\", \"x\": [\"2022-04-19T00:00:00\", \"2022-05-02T00:00:00\", \"2022-08-23T00:00:00\", \"2022-09-11T00:00:00\"], \"y\": [1, 1, 0, 0]}, {\"legendgroup\": \"rgb(31, 119, 180)\", \"marker\": {\"color\": \"rgb(31, 119, 180)\", \"opacity\": 0, \"size\": 1}, \"mode\": \"markers\", \"name\": \"\", \"showlegend\": false, \"text\": [null, null, null, null], \"type\": \"scatter\", \"x\": [\"2022-02-10T00:00:00\", \"2022-03-02T00:00:00\", \"2022-01-05T00:00:00\", \"2022-03-16T00:00:00\"], \"y\": [1, 1, 0, 0]}, {\"legendgroup\": \"rgb(44, 160, 44)\", \"marker\": {\"color\": \"rgb(44, 160, 44)\", \"opacity\": 0, \"size\": 1}, \"mode\": \"markers\", \"name\": \"\", \"showlegend\": false, \"text\": [null, null, null, null], \"type\": \"scatter\", \"x\": [\"2021-12-23T00:00:00\", \"2022-02-10T00:00:00\", \"2021-10-10T00:00:00\", \"2022-01-05T00:00:00\"], \"y\": [1, 1, 0, 0]}],                        {\"height\": 600, \"hovermode\": \"closest\", \"showlegend\": true, \"template\": {\"data\": {\"bar\": [{\"error_x\": {\"color\": \"#2a3f5f\"}, \"error_y\": {\"color\": \"#2a3f5f\"}, \"marker\": {\"line\": {\"color\": \"#E5ECF6\", \"width\": 0.5}}, \"type\": \"bar\"}], \"barpolar\": [{\"marker\": {\"line\": {\"color\": \"#E5ECF6\", \"width\": 0.5}}, \"type\": \"barpolar\"}], \"carpet\": [{\"aaxis\": {\"endlinecolor\": \"#2a3f5f\", \"gridcolor\": \"white\", \"linecolor\": \"white\", \"minorgridcolor\": \"white\", \"startlinecolor\": \"#2a3f5f\"}, \"baxis\": {\"endlinecolor\": \"#2a3f5f\", \"gridcolor\": \"white\", \"linecolor\": \"white\", \"minorgridcolor\": \"white\", \"startlinecolor\": \"#2a3f5f\"}, \"type\": \"carpet\"}], \"choropleth\": [{\"colorbar\": {\"outlinewidth\": 0, \"ticks\": \"\"}, \"type\": \"choropleth\"}], \"contour\": [{\"colorbar\": {\"outlinewidth\": 0, \"ticks\": \"\"}, \"colorscale\": [[0.0, \"#0d0887\"], [0.1111111111111111, \"#46039f\"], [0.2222222222222222, \"#7201a8\"], [0.3333333333333333, \"#9c179e\"], [0.4444444444444444, \"#bd3786\"], [0.5555555555555556, \"#d8576b\"], [0.6666666666666666, \"#ed7953\"], [0.7777777777777778, \"#fb9f3a\"], [0.8888888888888888, \"#fdca26\"], [1.0, \"#f0f921\"]], \"type\": \"contour\"}], \"contourcarpet\": [{\"colorbar\": {\"outlinewidth\": 0, \"ticks\": \"\"}, \"type\": \"contourcarpet\"}], \"heatmap\": [{\"colorbar\": {\"outlinewidth\": 0, \"ticks\": \"\"}, \"colorscale\": [[0.0, \"#0d0887\"], [0.1111111111111111, \"#46039f\"], [0.2222222222222222, \"#7201a8\"], [0.3333333333333333, \"#9c179e\"], [0.4444444444444444, \"#bd3786\"], [0.5555555555555556, \"#d8576b\"], [0.6666666666666666, \"#ed7953\"], [0.7777777777777778, \"#fb9f3a\"], [0.8888888888888888, \"#fdca26\"], [1.0, \"#f0f921\"]], \"type\": \"heatmap\"}], \"heatmapgl\": [{\"colorbar\": {\"outlinewidth\": 0, \"ticks\": \"\"}, \"colorscale\": [[0.0, \"#0d0887\"], [0.1111111111111111, \"#46039f\"], [0.2222222222222222, \"#7201a8\"], [0.3333333333333333, \"#9c179e\"], [0.4444444444444444, \"#bd3786\"], [0.5555555555555556, \"#d8576b\"], [0.6666666666666666, \"#ed7953\"], [0.7777777777777778, \"#fb9f3a\"], [0.8888888888888888, \"#fdca26\"], [1.0, \"#f0f921\"]], \"type\": \"heatmapgl\"}], \"histogram\": [{\"marker\": {\"colorbar\": {\"outlinewidth\": 0, \"ticks\": \"\"}}, \"type\": \"histogram\"}], \"histogram2d\": [{\"colorbar\": {\"outlinewidth\": 0, \"ticks\": \"\"}, \"colorscale\": [[0.0, \"#0d0887\"], [0.1111111111111111, \"#46039f\"], [0.2222222222222222, \"#7201a8\"], [0.3333333333333333, \"#9c179e\"], [0.4444444444444444, \"#bd3786\"], [0.5555555555555556, \"#d8576b\"], [0.6666666666666666, \"#ed7953\"], [0.7777777777777778, \"#fb9f3a\"], [0.8888888888888888, \"#fdca26\"], [1.0, \"#f0f921\"]], \"type\": \"histogram2d\"}], \"histogram2dcontour\": [{\"colorbar\": {\"outlinewidth\": 0, \"ticks\": \"\"}, \"colorscale\": [[0.0, \"#0d0887\"], [0.1111111111111111, \"#46039f\"], [0.2222222222222222, \"#7201a8\"], [0.3333333333333333, \"#9c179e\"], [0.4444444444444444, \"#bd3786\"], [0.5555555555555556, \"#d8576b\"], [0.6666666666666666, \"#ed7953\"], [0.7777777777777778, \"#fb9f3a\"], [0.8888888888888888, \"#fdca26\"], [1.0, \"#f0f921\"]], \"type\": \"histogram2dcontour\"}], \"mesh3d\": [{\"colorbar\": {\"outlinewidth\": 0, \"ticks\": \"\"}, \"type\": \"mesh3d\"}], \"parcoords\": [{\"line\": {\"colorbar\": {\"outlinewidth\": 0, \"ticks\": \"\"}}, \"type\": \"parcoords\"}], \"pie\": [{\"automargin\": true, \"type\": \"pie\"}], \"scatter\": [{\"marker\": {\"colorbar\": {\"outlinewidth\": 0, \"ticks\": \"\"}}, \"type\": \"scatter\"}], \"scatter3d\": [{\"line\": {\"colorbar\": {\"outlinewidth\": 0, \"ticks\": \"\"}}, \"marker\": {\"colorbar\": {\"outlinewidth\": 0, \"ticks\": \"\"}}, \"type\": \"scatter3d\"}], \"scattercarpet\": [{\"marker\": {\"colorbar\": {\"outlinewidth\": 0, \"ticks\": \"\"}}, \"type\": \"scattercarpet\"}], \"scattergeo\": [{\"marker\": {\"colorbar\": {\"outlinewidth\": 0, \"ticks\": \"\"}}, \"type\": \"scattergeo\"}], \"scattergl\": [{\"marker\": {\"colorbar\": {\"outlinewidth\": 0, \"ticks\": \"\"}}, \"type\": \"scattergl\"}], \"scattermapbox\": [{\"marker\": {\"colorbar\": {\"outlinewidth\": 0, \"ticks\": \"\"}}, \"type\": \"scattermapbox\"}], \"scatterpolar\": [{\"marker\": {\"colorbar\": {\"outlinewidth\": 0, \"ticks\": \"\"}}, \"type\": \"scatterpolar\"}], \"scatterpolargl\": [{\"marker\": {\"colorbar\": {\"outlinewidth\": 0, \"ticks\": \"\"}}, \"type\": \"scatterpolargl\"}], \"scatterternary\": [{\"marker\": {\"colorbar\": {\"outlinewidth\": 0, \"ticks\": \"\"}}, \"type\": \"scatterternary\"}], \"surface\": [{\"colorbar\": {\"outlinewidth\": 0, \"ticks\": \"\"}, \"colorscale\": [[0.0, \"#0d0887\"], [0.1111111111111111, \"#46039f\"], [0.2222222222222222, \"#7201a8\"], [0.3333333333333333, \"#9c179e\"], [0.4444444444444444, \"#bd3786\"], [0.5555555555555556, \"#d8576b\"], [0.6666666666666666, \"#ed7953\"], [0.7777777777777778, \"#fb9f3a\"], [0.8888888888888888, \"#fdca26\"], [1.0, \"#f0f921\"]], \"type\": \"surface\"}], \"table\": [{\"cells\": {\"fill\": {\"color\": \"#EBF0F8\"}, \"line\": {\"color\": \"white\"}}, \"header\": {\"fill\": {\"color\": \"#C8D4E3\"}, \"line\": {\"color\": \"white\"}}, \"type\": \"table\"}]}, \"layout\": {\"annotationdefaults\": {\"arrowcolor\": \"#2a3f5f\", \"arrowhead\": 0, \"arrowwidth\": 1}, \"autotypenumbers\": \"strict\", \"coloraxis\": {\"colorbar\": {\"outlinewidth\": 0, \"ticks\": \"\"}}, \"colorscale\": {\"diverging\": [[0, \"#8e0152\"], [0.1, \"#c51b7d\"], [0.2, \"#de77ae\"], [0.3, \"#f1b6da\"], [0.4, \"#fde0ef\"], [0.5, \"#f7f7f7\"], [0.6, \"#e6f5d0\"], [0.7, \"#b8e186\"], [0.8, \"#7fbc41\"], [0.9, \"#4d9221\"], [1, \"#276419\"]], \"sequential\": [[0.0, \"#0d0887\"], [0.1111111111111111, \"#46039f\"], [0.2222222222222222, \"#7201a8\"], [0.3333333333333333, \"#9c179e\"], [0.4444444444444444, \"#bd3786\"], [0.5555555555555556, \"#d8576b\"], [0.6666666666666666, \"#ed7953\"], [0.7777777777777778, \"#fb9f3a\"], [0.8888888888888888, \"#fdca26\"], [1.0, \"#f0f921\"]], \"sequentialminus\": [[0.0, \"#0d0887\"], [0.1111111111111111, \"#46039f\"], [0.2222222222222222, \"#7201a8\"], [0.3333333333333333, \"#9c179e\"], [0.4444444444444444, \"#bd3786\"], [0.5555555555555556, \"#d8576b\"], [0.6666666666666666, \"#ed7953\"], [0.7777777777777778, \"#fb9f3a\"], [0.8888888888888888, \"#fdca26\"], [1.0, \"#f0f921\"]]}, \"colorway\": [\"#636efa\", \"#EF553B\", \"#00cc96\", \"#ab63fa\", \"#FFA15A\", \"#19d3f3\", \"#FF6692\", \"#B6E880\", \"#FF97FF\", \"#FECB52\"], \"font\": {\"color\": \"#2a3f5f\"}, \"geo\": {\"bgcolor\": \"white\", \"lakecolor\": \"white\", \"landcolor\": \"#E5ECF6\", \"showlakes\": true, \"showland\": true, \"subunitcolor\": \"white\"}, \"hoverlabel\": {\"align\": \"left\"}, \"hovermode\": \"closest\", \"mapbox\": {\"style\": \"light\"}, \"paper_bgcolor\": \"white\", \"plot_bgcolor\": \"#E5ECF6\", \"polar\": {\"angularaxis\": {\"gridcolor\": \"white\", \"linecolor\": \"white\", \"ticks\": \"\"}, \"bgcolor\": \"#E5ECF6\", \"radialaxis\": {\"gridcolor\": \"white\", \"linecolor\": \"white\", \"ticks\": \"\"}}, \"scene\": {\"xaxis\": {\"backgroundcolor\": \"#E5ECF6\", \"gridcolor\": \"white\", \"gridwidth\": 2, \"linecolor\": \"white\", \"showbackground\": true, \"ticks\": \"\", \"zerolinecolor\": \"white\"}, \"yaxis\": {\"backgroundcolor\": \"#E5ECF6\", \"gridcolor\": \"white\", \"gridwidth\": 2, \"linecolor\": \"white\", \"showbackground\": true, \"ticks\": \"\", \"zerolinecolor\": \"white\"}, \"zaxis\": {\"backgroundcolor\": \"#E5ECF6\", \"gridcolor\": \"white\", \"gridwidth\": 2, \"linecolor\": \"white\", \"showbackground\": true, \"ticks\": \"\", \"zerolinecolor\": \"white\"}}, \"shapedefaults\": {\"line\": {\"color\": \"#2a3f5f\"}}, \"ternary\": {\"aaxis\": {\"gridcolor\": \"white\", \"linecolor\": \"white\", \"ticks\": \"\"}, \"baxis\": {\"gridcolor\": \"white\", \"linecolor\": \"white\", \"ticks\": \"\"}, \"bgcolor\": \"#E5ECF6\", \"caxis\": {\"gridcolor\": \"white\", \"linecolor\": \"white\", \"ticks\": \"\"}}, \"title\": {\"x\": 0.05}, \"xaxis\": {\"automargin\": true, \"gridcolor\": \"white\", \"linecolor\": \"white\", \"ticks\": \"\", \"title\": {\"standoff\": 15}, \"zerolinecolor\": \"white\", \"zerolinewidth\": 2}, \"yaxis\": {\"automargin\": true, \"gridcolor\": \"white\", \"linecolor\": \"white\", \"ticks\": \"\", \"title\": {\"standoff\": 15}, \"zerolinecolor\": \"white\", \"zerolinewidth\": 2}}}, \"title\": {\"text\": \"Gantt Chart\"}, \"xaxis\": {\"rangeselector\": {\"buttons\": [{\"count\": 7, \"label\": \"1w\", \"step\": \"day\", \"stepmode\": \"backward\"}, {\"count\": 1, \"label\": \"1m\", \"step\": \"month\", \"stepmode\": \"backward\"}, {\"count\": 6, \"label\": \"6m\", \"step\": \"month\", \"stepmode\": \"backward\"}, {\"count\": 1, \"label\": \"YTD\", \"step\": \"year\", \"stepmode\": \"todate\"}, {\"count\": 1, \"label\": \"1y\", \"step\": \"year\", \"stepmode\": \"backward\"}, {\"step\": \"all\"}]}, \"showgrid\": false, \"type\": \"date\", \"zeroline\": false}, \"yaxis\": {\"autorange\": false, \"range\": [-1, 3], \"showgrid\": false, \"ticktext\": [\"bfe\", \"abc\"], \"tickvals\": [0, 1], \"zeroline\": false}},                        {\"responsive\": true}                    ).then(function(){\n",
              "                            \n",
              "var gd = document.getElementById('4154c07e-e229-4be1-8da8-14eca12dd094');\n",
              "var x = new MutationObserver(function (mutations, observer) {{\n",
              "        var display = window.getComputedStyle(gd).display;\n",
              "        if (!display || display === 'none') {{\n",
              "            console.log([gd, 'removed!']);\n",
              "            Plotly.purge(gd);\n",
              "            observer.disconnect();\n",
              "        }}\n",
              "}});\n",
              "\n",
              "// Listen for the removal of the full notebook cells\n",
              "var notebookContainer = gd.closest('#notebook-container');\n",
              "if (notebookContainer) {{\n",
              "    x.observe(notebookContainer, {childList: true});\n",
              "}}\n",
              "\n",
              "// Listen for the clearing of the current output cell\n",
              "var outputEl = gd.closest('.output');\n",
              "if (outputEl) {{\n",
              "    x.observe(outputEl, {childList: true});\n",
              "}}\n",
              "\n",
              "                        })                };                            </script>        </div>\n",
              "</body>\n",
              "</html>"
            ]
          },
          "metadata": {
            "tags": []
          }
        }
      ]
    }
  ]
}